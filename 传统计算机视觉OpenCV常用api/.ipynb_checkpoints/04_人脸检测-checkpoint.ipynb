{
 "cells": [
  {
   "cell_type": "markdown",
   "metadata": {},
   "source": [
    "# 定位\n",
    "其实是一种辅助功能"
   ]
  },
  {
   "cell_type": "code",
   "execution_count": 1,
   "metadata": {},
   "outputs": [],
   "source": [
    "import numpy as np\n",
    "import cv2 as cv\n",
    "import matplotlib.pyplot as plt"
   ]
  },
  {
   "cell_type": "markdown",
   "metadata": {},
   "source": [
    "# 基于Haar Cascades的Face Detection"
   ]
  },
  {
   "cell_type": "code",
   "execution_count": 2,
   "metadata": {},
   "outputs": [],
   "source": [
    "# 加载定义好的人脸以及眼睛信息匹配信息\n",
    "face_cascade = cv.CascadeClassifier('haarcascade_frontalface_default.xml')\n",
    "eye_cascade = cv.CascadeClassifier('haarcascade_eye.xml')"
   ]
  },
  {
   "cell_type": "code",
   "execution_count": 6,
   "metadata": {},
   "outputs": [],
   "source": [
    "# 加载图像\n",
    "img = cv.imread('faces.png')\n",
    "# 转换为灰度图像\n",
    "gray = cv.cvtColor(img, cv.COLOR_BGR2GRAY)\n",
    "\n",
    "# 检测图像\n",
    "faces = face_cascade.detectMultiScale(gray, 1.3, 5)\n",
    "for (x,y,w,h) in faces:\n",
    "    # 画人脸区域\n",
    "    cv.rectangle(img, (x,y), (x+w, y+h), (255,0,0), 2)\n",
    "    \n",
    "    # 获得人脸区域\n",
    "    roi_gray = gray[y:y+h, x:x+w]\n",
    "    roi_img = img[y:y+h, x:x+w]\n",
    "    \n",
    "    # 检测眼睛\n",
    "    eyes = eye_cascade.detectMultiScale(roi_gray)\n",
    "    for (ex, ey, ew, eh) in eyes:\n",
    "        # 画眼睛\n",
    "        cv.rectangle(roi_img, (ex,ey), (ex+ew, ey+eh), (0,0,255), 2)\n",
    "\n",
    "# 可视化\n",
    "cv.imshow('img', img)\n",
    "cv.waitKey(0)\n",
    "cv.destroyAllWindows()"
   ]
  },
  {
   "cell_type": "code",
   "execution_count": 20,
   "metadata": {},
   "outputs": [],
   "source": [
    "# 从摄像机获取视频 + 人脸区域提取\n",
    "# 创建一个基于摄像头的视频读取流，给定基于第一个视频设备\n",
    "capture = cv.VideoCapture(0)\n",
    "\n",
    "# # 设置摄像头相关参数（但是实际参数会进行稍微的偏移）\n",
    "# success=capture.set(cv.CAP_PROP_FRAME_WIDTH, 880)\n",
    "# if success:\n",
    "#     print(\"设置宽度成功\")\n",
    "# success=capture.set(cv.CAP_PROP_FRAME_HEIGHT, 480)\n",
    "# if success:\n",
    "#     print(\"设置高度成功\")\n",
    "\n",
    "# # 打印属性\n",
    "# size = (int(capture.get(cv.CAP_PROP_FRAME_WIDTH)),\n",
    "#         int(capture.get(cv.CAP_PROP_FRAME_HEIGHT)))\n",
    "# print(size)\n",
    "\n",
    "# 遍历获取视频中的图像\n",
    "# 读取当前时刻的摄像头捕获的图像, 返回为值：True/False, Image/None\n",
    "success, frame = capture.read()\n",
    "# 遍历以及等待任意键盘输入\n",
    "while success and cv.waitKey(1) == -1:\n",
    "    img = frame\n",
    "    \n",
    "    # NOTE: 特定，因为刘老师这个地方图像是一个反的图像，所以做一个旋转操作\n",
    "    img = cv.rotate(img, rotateCode=cv.ROTATE_180)\n",
    "    \n",
    "    # 转换为灰度图像\n",
    "    gray = cv.cvtColor(img, cv.COLOR_BGR2GRAY)\n",
    "    \n",
    "    # \n",
    "    clahe = cv.createCLAHE(clipLimit=2.0, tileGridSize=(8,8))\n",
    "    gray = clahe.apply(gray)\n",
    "    \n",
    "    # 做一个人脸检测\n",
    "    # 检测图像\n",
    "    faces = face_cascade.detectMultiScale(gray, 1.3, 5)\n",
    "    for (x,y,w,h) in faces:\n",
    "        # 画人脸区域\n",
    "        cv.rectangle(img, (x,y), (x+w, y+h), (255,0,0), 2)\n",
    "\n",
    "        # 获得人脸区域\n",
    "        roi_gray = gray[y:y+h, x:x+w]\n",
    "        roi_img = img[y:y+h, x:x+w]\n",
    "\n",
    "        # 检测眼睛\n",
    "        eyes = eye_cascade.detectMultiScale(roi_gray)\n",
    "        for (ex, ey, ew, eh) in eyes:\n",
    "            # 画眼睛\n",
    "            cv.rectangle(roi_img, (ex,ey), (ex+ew, ey+eh), (0,0,255), 2)\n",
    "    \n",
    "    cv.imshow('frame', img)\n",
    "\n",
    "    # 读取下一帧的图像\n",
    "    success, frame = capture.read()\n",
    "\n",
    "# 释放资源\n",
    "capture.release()\n",
    "cv.destroyAllWindows()"
   ]
  },
  {
   "cell_type": "code",
   "execution_count": 8,
   "metadata": {},
   "outputs": [],
   "source": [
    "# 从摄像机获取视频 + 人脸区域提取\n",
    "# 创建一个基于摄像头的视频读取流，给定基于第一个视频设备\n",
    "capture = cv.VideoCapture(0)\n",
    "\n",
    "# 遍历获取视频中的图像\n",
    "# 读取当前时刻的摄像头捕获的图像, 返回为值：True/False, Image/None\n",
    "success, frame = capture.read()\n",
    "# 遍历以及等待任意键盘输入\n",
    "while success and cv.waitKey(1) == -1:\n",
    "    img = frame\n",
    "    \n",
    "    # 做一个人脸检测\n",
    "    # 转换为灰度图像\n",
    "    gray = cv.cvtColor(img, cv.COLOR_BGR2GRAY)\n",
    "\n",
    "    # 检测图像\n",
    "    faces = face_cascade.detectMultiScale(gray, 1.3, 5)\n",
    "    if len(faces) > 0:\n",
    "        # NOTE: 检测出来人脸，那么直接将人脸发送给服务器进行业务逻辑 + 模型预测等相关处理\n",
    "        pass\n",
    "    \n",
    "    cv.imshow('frame', img)\n",
    "\n",
    "    # 读取下一帧的图像\n",
    "    success, frame = capture.read()\n",
    "\n",
    "# 释放资源\n",
    "capture.release()\n",
    "cv.destroyAllWindows()"
   ]
  },
  {
   "cell_type": "code",
   "execution_count": null,
   "metadata": {},
   "outputs": [],
   "source": []
  }
 ],
 "metadata": {
  "kernelspec": {
   "display_name": "Python 3",
   "language": "python",
   "name": "python3"
  },
  "language_info": {
   "codemirror_mode": {
    "name": "ipython",
    "version": 3
   },
   "file_extension": ".py",
   "mimetype": "text/x-python",
   "name": "python",
   "nbconvert_exporter": "python",
   "pygments_lexer": "ipython3",
   "version": "3.7.4"
  }
 },
 "nbformat": 4,
 "nbformat_minor": 2
}

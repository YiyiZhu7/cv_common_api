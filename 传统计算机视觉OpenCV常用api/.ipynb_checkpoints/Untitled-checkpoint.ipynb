{
 "cells": [
  {
   "cell_type": "code",
   "execution_count": 25,
   "metadata": {
    "collapsed": true
   },
   "outputs": [],
   "source": [
    "import cv2 as cv"
   ]
  },
  {
   "cell_type": "code",
   "execution_count": 40,
   "metadata": {
    "collapsed": false
   },
   "outputs": [
    {
     "data": {
      "text/plain": [
       "(768, 1024, 3)"
      ]
     },
     "execution_count": 40,
     "metadata": {},
     "output_type": "execute_result"
    }
   ],
   "source": [
    "img = cv.imread('gray.png')\n",
    "img.shape"
   ]
  },
  {
   "cell_type": "code",
   "execution_count": 45,
   "metadata": {
    "collapsed": false
   },
   "outputs": [
    {
     "name": "stdout",
     "output_type": "stream",
     "text": [
      "Help on built-in function resize:\n",
      "\n",
      "resize(...)\n",
      "    resize(src, dsize[, dst[, fx[, fy[, interpolation]]]]) -> dst\n",
      "    .   @brief Resizes an image.\n",
      "    .   \n",
      "    .   The function resize resizes the image src down to or up to the specified size. Note that the\n",
      "    .   initial dst type or size are not taken into account. Instead, the size and type are derived from\n",
      "    .   the `src`,`dsize`,`fx`, and `fy`. If you want to resize src so that it fits the pre-created dst,\n",
      "    .   you may call the function as follows:\n",
      "    .   @code\n",
      "    .   // explicitly specify dsize=dst.size(); fx and fy will be computed from that.\n",
      "    .   resize(src, dst, dst.size(), 0, 0, interpolation);\n",
      "    .   @endcode\n",
      "    .   If you want to decimate the image by factor of 2 in each direction, you can call the function this\n",
      "    .   way:\n",
      "    .   @code\n",
      "    .   // specify fx and fy and let the function compute the destination image size.\n",
      "    .   resize(src, dst, Size(), 0.5, 0.5, interpolation);\n",
      "    .   @endcode\n",
      "    .   To shrink an image, it will generally look best with cv::INTER_AREA interpolation, whereas to\n",
      "    .   enlarge an image, it will generally look best with cv::INTER_CUBIC (slow) or cv::INTER_LINEAR\n",
      "    .   (faster but still looks OK).\n",
      "    .   \n",
      "    .   @param src input image.\n",
      "    .   @param dst output image; it has the size dsize (when it is non-zero) or the size computed from\n",
      "    .   src.size(), fx, and fy; the type of dst is the same as of src.\n",
      "    .   @param dsize output image size; if it equals zero, it is computed as:\n",
      "    .   \\f[\\texttt{dsize = Size(round(fx*src.cols), round(fy*src.rows))}\\f]\n",
      "    .   Either dsize or both fx and fy must be non-zero.\n",
      "    .   @param fx scale factor along the horizontal axis; when it equals 0, it is computed as\n",
      "    .   \\f[\\texttt{(double)dsize.width/src.cols}\\f]\n",
      "    .   @param fy scale factor along the vertical axis; when it equals 0, it is computed as\n",
      "    .   \\f[\\texttt{(double)dsize.height/src.rows}\\f]\n",
      "    .   @param interpolation interpolation method, see cv::InterpolationFlags\n",
      "    .   \n",
      "    .   @sa  warpAffine, warpPerspective, remap\n",
      "\n"
     ]
    }
   ],
   "source": [
    "help(cv.resize)"
   ]
  },
  {
   "cell_type": "code",
   "execution_count": 35,
   "metadata": {
    "collapsed": false
   },
   "outputs": [],
   "source": [
    "img = cv.imread('xihu.png', 0)\n"
   ]
  },
  {
   "cell_type": "code",
   "execution_count": 38,
   "metadata": {
    "collapsed": true
   },
   "outputs": [],
   "source": [
    "cv.imshow('xx', img)\n",
    "cv.waitKey(0)\n",
    "cv.destroyAllWindows()"
   ]
  },
  {
   "cell_type": "code",
   "execution_count": 36,
   "metadata": {
    "collapsed": false
   },
   "outputs": [
    {
     "data": {
      "text/plain": [
       "True"
      ]
     },
     "execution_count": 36,
     "metadata": {},
     "output_type": "execute_result"
    }
   ],
   "source": [
    "cv.imwrite('gray.png', img)"
   ]
  },
  {
   "cell_type": "code",
   "execution_count": 32,
   "metadata": {
    "collapsed": false
   },
   "outputs": [
    {
     "data": {
      "text/plain": [
       "(600, 900)"
      ]
     },
     "execution_count": 32,
     "metadata": {},
     "output_type": "execute_result"
    }
   ],
   "source": [
    "img.shape"
   ]
  },
  {
   "cell_type": "code",
   "execution_count": 11,
   "metadata": {
    "collapsed": false
   },
   "outputs": [],
   "source": [
    "import numpy as np"
   ]
  },
  {
   "cell_type": "code",
   "execution_count": 22,
   "metadata": {
    "collapsed": false
   },
   "outputs": [
    {
     "data": {
      "text/plain": [
       "array([ True])"
      ]
     },
     "execution_count": 22,
     "metadata": {},
     "output_type": "execute_result"
    }
   ],
   "source": [
    "np.unique(img2 == img)"
   ]
  },
  {
   "cell_type": "code",
   "execution_count": 3,
   "metadata": {
    "collapsed": false
   },
   "outputs": [
    {
     "name": "stdout",
     "output_type": "stream",
     "text": [
      "Help on built-in function mixChannels:\n",
      "\n",
      "mixChannels(...)\n",
      "    mixChannels(src, dst, fromTo) -> dst\n",
      "    .   @overload\n",
      "    .   @param src input array or vector of matrices; all of the matrices must have the same size and the\n",
      "    .   same depth.\n",
      "    .   @param dst output array or vector of matrices; all the matrices **must be allocated**; their size and\n",
      "    .   depth must be the same as in src[0].\n",
      "    .   @param fromTo array of index pairs specifying which channels are copied and where; fromTo[k\\*2] is\n",
      "    .   a 0-based index of the input channel in src, fromTo[k\\*2+1] is an index of the output channel in\n",
      "    .   dst; the continuous channel numbering is used: the first input image channels are indexed from 0 to\n",
      "    .   src[0].channels()-1, the second input image channels are indexed from src[0].channels() to\n",
      "    .   src[0].channels() + src[1].channels()-1, and so on, the same scheme is used for the output image\n",
      "    .   channels; as a special case, when fromTo[k\\*2] is negative, the corresponding output channel is\n",
      "    .   filled with zero .\n",
      "\n"
     ]
    }
   ],
   "source": [
    "help(cv.mixChannels)"
   ]
  },
  {
   "cell_type": "code",
   "execution_count": null,
   "metadata": {
    "collapsed": true
   },
   "outputs": [],
   "source": []
  }
 ],
 "metadata": {
  "kernelspec": {
   "display_name": "Python 3",
   "language": "python",
   "name": "python3"
  },
  "language_info": {
   "codemirror_mode": {
    "name": "ipython",
    "version": 3
   },
   "file_extension": ".py",
   "mimetype": "text/x-python",
   "name": "python",
   "nbconvert_exporter": "python",
   "pygments_lexer": "ipython3",
   "version": "3.6.6"
  }
 },
 "nbformat": 4,
 "nbformat_minor": 2
}

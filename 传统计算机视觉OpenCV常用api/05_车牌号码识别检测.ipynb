{
 "cells": [
  {
   "cell_type": "markdown",
   "metadata": {},
   "source": [
    "# 描述\n",
    "做一个简单的车牌号码提取的代码"
   ]
  },
  {
   "cell_type": "code",
   "execution_count": 75,
   "metadata": {},
   "outputs": [],
   "source": [
    "import cv2\n",
    "import numpy as np"
   ]
  },
  {
   "cell_type": "markdown",
   "metadata": {},
   "source": [
    "## 定义一个图像预处理的相关代码"
   ]
  },
  {
   "cell_type": "code",
   "execution_count": 36,
   "metadata": {},
   "outputs": [],
   "source": [
    "def preprocess(gray):\n",
    "    \"\"\"\n",
    "    对灰度对象进行形态转换（预处理）\n",
    "    :param gray:\n",
    "    :return:\n",
    "    \"\"\"\n",
    "    # 高斯平滑\n",
    "    gaussian = cv2.GaussianBlur(gray, (3, 3), 0, 0, cv2.BORDER_DEFAULT)\n",
    "\n",
    "    # 中值滤波\n",
    "    median = cv2.medianBlur(gaussian, 5)\n",
    "\n",
    "    # Sobel算子，对边缘进行处理(获取边缘信息，其实就是卷积过程)\n",
    "    # x：[-1, 0, +1, -2, 0, +2, -1, 0, +1]\n",
    "    # y：[-1, -2, -1, 0, 0, 0, +1, +2, +1]\n",
    "    sobel = cv2.Sobel(median, cv2.CV_64F, dx=1, dy=0, ksize=3)\n",
    "    # 类型转换为unit8\n",
    "    sobel = np.uint8(np.absolute(sobel))\n",
    "\n",
    "    # 二值化\n",
    "    ret, binary = cv2.threshold(sobel, 170, 255, cv2.THRESH_BINARY)\n",
    "\n",
    "    # 膨胀&腐蚀\n",
    "    element1 = cv2.getStructuringElement(cv2.MORPH_RECT, (9, 1))\n",
    "    element2 = cv2.getStructuringElement(cv2.MORPH_RECT, (9, 7))\n",
    "    # 膨胀一次，让轮廓突出\n",
    "    dilation = cv2.dilate(binary, element2, iterations=1)\n",
    "    # 腐蚀一次，去掉细节\n",
    "    erosion = cv2.erode(dilation, element1, iterations=2)\n",
    "    # 再次膨胀，让轮廓明显一些\n",
    "    dilation2 = cv2.dilate(erosion, element2, iterations=5)\n",
    "    # 腐蚀一次，去掉细节\n",
    "    erosion2 = cv2.erode(dilation2, element1, iterations=4)\n",
    "\n",
    "#     cv2.imshow('gray', gray)\n",
    "#     cv2.imshow('gaussian', gaussian)\n",
    "#     cv2.imshow('median', median)\n",
    "#     cv2.imshow('sobel', sobel)\n",
    "#     cv2.imshow('binary', binary)\n",
    "#     cv2.imshow('dilation', dilation)\n",
    "#     cv2.imshow('erosion', erosion)\n",
    "#     cv2.imshow('dilation2', dilation2)\n",
    "#     cv2.imshow('erosion2', erosion2)\n",
    "#     cv2.waitKey(0)\n",
    "#     cv2.destroyAllWindows()\n",
    "    return erosion2"
   ]
  },
  {
   "cell_type": "code",
   "execution_count": 35,
   "metadata": {},
   "outputs": [
    {
     "data": {
      "text/plain": [
       "0"
      ]
     },
     "execution_count": 35,
     "metadata": {},
     "output_type": "execute_result"
    }
   ],
   "source": [
    "img = cv2.imread(\"car3.jpg\", 0)\n",
    "preprocess(img)\n",
    "0"
   ]
  },
  {
   "cell_type": "markdown",
   "metadata": {},
   "source": [
    "## 进行车牌照区域查找"
   ]
  },
  {
   "cell_type": "code",
   "execution_count": 62,
   "metadata": {},
   "outputs": [],
   "source": [
    "def find_plate_number_region(img):\n",
    "    \"\"\"\n",
    "    寻找可能是车牌区域的轮廓\n",
    "    :param img:\n",
    "    :return:\n",
    "    \"\"\"\n",
    "    # 查找轮廓(img: 原始图像，contours：矩形坐标点，hierarchy：图像层次)\n",
    "    contours, hierarchy = cv2.findContours(img, cv2.RETR_TREE, cv2.CHAIN_APPROX_SIMPLE)\n",
    "\n",
    "    # 查找矩形\n",
    "    max_ratio = -1\n",
    "    max_box = None\n",
    "    ratios = []\n",
    "    number = 0\n",
    "    for i in range(len(contours)):\n",
    "        cnt = contours[i]  # 当前轮廓的坐标信息\n",
    "\n",
    "        # 计算轮廓面积\n",
    "        area = cv2.contourArea(cnt)\n",
    "        # 面积太小的过滤掉\n",
    "        if area < 10000:\n",
    "            continue\n",
    "\n",
    "        # 找到最小的矩形\n",
    "        rect = cv2.minAreaRect(cnt)\n",
    "\n",
    "        # 矩形的四个坐标（顺序不定，但是一定是一个左下角、左上角、右上角、右下角这种循环顺序(开始是哪个点未知)）\n",
    "        box = cv2.boxPoints(rect)\n",
    "        # 转换为long类型\n",
    "        box = np.int64(box)\n",
    "        \n",
    "        \n",
    "        # 计算长宽高\n",
    "        # 计算第一条边的长度\n",
    "        a = abs(box[0][0] - box[1][0])\n",
    "        b = abs(box[0][1] - box[1][1])\n",
    "        h = np.sqrt(a ** 2 + b **2)\n",
    "        # 计算第二条边的长度\n",
    "        c = abs(box[1][0] - box[2][0])\n",
    "        d = abs(box[1][1] - box[2][1])\n",
    "        w = np.sqrt(c ** 2 + d **2)\n",
    "        # 让最小值为高度，最大值为宽度\n",
    "        height = int(min(h, w))\n",
    "        weight = int(max(h, w))\n",
    "        \n",
    "        # 计算面积\n",
    "        area2 = height * weight\n",
    "        \n",
    "        # 两个面积的差值一定在一定范围内\n",
    "        r = np.absolute((area2 - area) / area)\n",
    "        if r > 0.6:\n",
    "            continue\n",
    "        \n",
    "        ratio = float(weight) / float(height)\n",
    "        print((box, height, weight, area, area2, r, ratio, rect[-1]))\n",
    "        cv2.drawContours(img, [box], 0, 255, 2)\n",
    "        cv2.imshow('img', img)\n",
    "        cv2.waitKey(0)\n",
    "        cv2.destroyAllWindows()\n",
    "        # 实际情况下ratio应该是3左右，但是由于我们的照片不规范的问题，\n",
    "        # 检测出来的宽度比高度应该在2~5.5之间\n",
    "        if ratio > max_ratio:\n",
    "            max_box = box\n",
    "            max_ratio = ratio\n",
    "\n",
    "        if ratio > 5.5 or ratio < 2:\n",
    "            continue\n",
    "\n",
    "        \n",
    "        number += 1\n",
    "        ratios.append((box, ratio))\n",
    "\n",
    "    \n",
    "\n",
    "    # 根据找到的图像矩阵数量进行数据输出\n",
    "    print(\"总共找到:{}个可能区域!!\".format(number))\n",
    "    if number == 1:\n",
    "        # 直接返回\n",
    "        return ratios[0][0]\n",
    "    elif number > 1:\n",
    "        # 不考虑太多，直接获取中间值(并且进行过滤)\n",
    "        # 实际要求更加严格\n",
    "        filter_ratios = list(filter(lambda t: t[1] >= 2.7 and t[1] <= 5.0, ratios))\n",
    "        size_filter_ratios = len(filter_ratios)\n",
    "        \n",
    "        if size_filter_ratios == 1:\n",
    "            return filter_ratios[0][0]\n",
    "        elif size_filter_ratios > 1:\n",
    "            # 获取中间值\n",
    "            ratios1 = [filter_ratios[i][1] for i in range(size_filter_ratios)]\n",
    "            ratios1 = list(zip(range(size_filter_ratios), ratios1))\n",
    "            # 数据排序\n",
    "            ratios1 = sorted(ratios1, key=lambda t: t[1])\n",
    "            # 获取中间值的数据\n",
    "            idx = ratios1[size_filter_ratios // 2][0]\n",
    "            return filter_ratios[idx][0]\n",
    "        else:\n",
    "            # 获取最大值\n",
    "            ratios1 = [ratios[i][1] for i in range(number)]\n",
    "            ratios1 = list(zip(range(number), ratios1))\n",
    "            # 数据排序\n",
    "            ratios1 = sorted(ratios1, key=lambda t: t[1])\n",
    "            # 获取最大值的数据\n",
    "            idx = ratios1[-1][0]\n",
    "            return filter_ratios[idx][0]\n",
    "    else:\n",
    "        # 直接返回最大值\n",
    "        print(\"直接返回最接近比例的区域...\")\n",
    "        return max_box"
   ]
  },
  {
   "cell_type": "markdown",
   "metadata": {},
   "source": [
    "## 进行车牌的截取"
   ]
  },
  {
   "cell_type": "code",
   "execution_count": 63,
   "metadata": {},
   "outputs": [],
   "source": [
    "def cut(img_or_img_path):\n",
    "    \"\"\"\n",
    "    截取车牌区域\n",
    "    :param img:\n",
    "    :return:\n",
    "    \"\"\"\n",
    "    if isinstance(img_or_img_path, str):\n",
    "        img = cv2.imread(img_or_img_path)\n",
    "    else:\n",
    "        img = img_or_img_path\n",
    "    \n",
    "    # 获取图像的高度和宽度\n",
    "    rows, cols, _ = img.shape\n",
    "\n",
    "    # 将图像转换为灰度图\n",
    "    gray = cv2.cvtColor(img, cv2.COLOR_BGR2GRAY)\n",
    "\n",
    "    # 图像预处理-->将车牌区域给明显的显示出来\n",
    "    dilation = preprocess(gray)\n",
    "\n",
    "    # 查找车牌区域(假定只会有一个)\n",
    "    box = find_plate_number_region(dilation)\n",
    "\n",
    "    # 返回区域对应的图像\n",
    "    # 因为不知道，点的顺序，所以对左边点坐标排序\n",
    "    ys = [box[0, 1], box[1, 1], box[2, 1], box[3, 1]]\n",
    "    xs = [box[0, 0], box[1, 0], box[2, 0], box[3, 0]]\n",
    "    ys_sorted_index = np.argsort(ys)\n",
    "    xs_sorted_index = np.argsort(xs)\n",
    "\n",
    "    # 获取x上的坐标\n",
    "    x1 = box[xs_sorted_index[0], 0]\n",
    "    x1 = x1 if x1 > 0 else 0\n",
    "    x2 = box[xs_sorted_index[3], 0]\n",
    "    x2 = cols if x2 > cols else x2\n",
    "\n",
    "    # 获取y上的坐标\n",
    "    y1 = box[ys_sorted_index[0], 1]\n",
    "    y1 = y1 if y1 > 0 else 0\n",
    "    y2 = box[ys_sorted_index[3], 1]\n",
    "    y2 = rows if y2 > rows else y2\n",
    "\n",
    "    # 截取图像\n",
    "    img_plate = img[y1:y2, x1:x2]\n",
    "\n",
    "    return img_plate"
   ]
  },
  {
   "cell_type": "code",
   "execution_count": 65,
   "metadata": {
    "scrolled": true
   },
   "outputs": [
    {
     "name": "stdout",
     "output_type": "stream",
     "text": [
      "(array([[204, 388],\n",
      "       [195, 288],\n",
      "       [491, 263],\n",
      "       [500, 363]], dtype=int64), 100, 297, 22682.5, 29700, 0.3093794775708145, 2.97, -4.80795431137085)\n",
      "总共找到:1个可能区域!!\n",
      "(125, 305, 3)\n"
     ]
    }
   ],
   "source": [
    "path = 'car2.jpg'\n",
    "cut_img = cut(path)\n",
    "print(cut_img.shape)\n",
    "cv2.imwrite('plat.jpg', cut_img)\n",
    "\n",
    "# 可视化\n",
    "cv2.imshow('image', cv2.imread(path))\n",
    "cv2.imshow('plat', cut_img)\n",
    "cv2.waitKey(0)\n",
    "cv2.destroyAllWindows()"
   ]
  },
  {
   "cell_type": "markdown",
   "metadata": {},
   "source": [
    "### 下列代码仅支持car2.jpg这个图像"
   ]
  },
  {
   "cell_type": "code",
   "execution_count": 70,
   "metadata": {},
   "outputs": [],
   "source": [
    "cut_img = cut_img\n",
    "\n",
    "# 旋转\n",
    "rows, cols, _ = cut_img.shape\n",
    "M = cv2.getRotationMatrix2D(center=(cols/2, rows/2), angle=-4.808, scale=1)\n",
    "cut_img2 = cv2.warpAffine(cut_img, M, (cols, rows), borderValue=[0,0,0])\n",
    "\n",
    "\n",
    "gray = cv2.cvtColor(cut_img2, cv2.COLOR_BGR2GRAY)\n",
    "# 高斯平滑\n",
    "gaussian = cv2.GaussianBlur(gray, (3, 3), 0, 0, cv2.BORDER_DEFAULT)\n",
    "\n",
    "# 中值滤波\n",
    "median = cv2.medianBlur(gaussian, 5)\n",
    "\n",
    "# 边缘检测\n",
    "edges = cv2.Canny(median,threshold1=50, threshold2=250)\n",
    "\n",
    "# 二值化\n",
    "ret, binary = cv2.threshold(edges, 170, 255, cv2.THRESH_BINARY)\n",
    "\n",
    "# 膨胀一次，让轮廓突出\n",
    "element2 = cv2.getStructuringElement(cv2.MORPH_RECT, (3, 3))\n",
    "dilation = cv2.dilate(binary, element2, iterations=1)\n",
    "\n",
    "cv2.imshow('cut_img', cut_img)\n",
    "cv2.imshow('cut_img2', cut_img2)\n",
    "cv2.imshow('binary', binary)\n",
    "cv2.imshow('dilation', dilation)\n",
    "cv2.waitKey(0)\n",
    "cv2.destroyAllWindows()"
   ]
  },
  {
   "cell_type": "code",
   "execution_count": 72,
   "metadata": {},
   "outputs": [
    {
     "data": {
      "text/plain": [
       "True"
      ]
     },
     "execution_count": 72,
     "metadata": {},
     "output_type": "execute_result"
    }
   ],
   "source": [
    "cv2.imwrite('car2_plat.jpg', cut_img2)\n"
   ]
  },
  {
   "cell_type": "code",
   "execution_count": 74,
   "metadata": {},
   "outputs": [],
   "source": [
    "v = binary\n",
    "v = np.mean(v, axis=0)  # 将图像每列取均值\n",
    "v = v * 2.5\n",
    "v = v.astype(np.uint8)\n",
    "vv = np.array([\n",
    "    v,v,v,v,v,v,v,v,v,v,v,v,v,v,v,v,\n",
    "    v,v,v,v,v,v,v,v,v,v,v,v,v,v,v,v,\n",
    "    v,v,v,v,v,v,v,v,v,v,v,v,v,v,v,v,\n",
    "    v,v,v,v,v,v,v,v,v,v,v,v,v,v,v,v\n",
    "])\n",
    "cv2.imshow('vv', vv)\n",
    "cv2.waitKey(0)\n",
    "cv2.destroyAllWindows()"
   ]
  },
  {
   "cell_type": "code",
   "execution_count": 69,
   "metadata": {},
   "outputs": [
    {
     "data": {
      "image/png": "[encoded data removed]",
      "text/plain": [
       "<Figure size 432x288 with 1 Axes>"
      ]
     },
     "metadata": {
      "needs_background": "light"
     },
     "output_type": "display_data"
    }
   ],
   "source": [
    "import matplotlib.pyplot as plt\n",
    "\n",
    "plt.plot(v)\n",
    "plt.show()"
   ]
  },
  {
   "cell_type": "code",
   "execution_count": null,
   "metadata": {
    "collapsed": true
   },
   "outputs": [],
   "source": []
  },
  {
   "cell_type": "code",
   "execution_count": null,
   "metadata": {
    "collapsed": true
   },
   "outputs": [],
   "source": []
  }
 ],
 "metadata": {
  "kernelspec": {
   "display_name": "Python 3",
   "language": "python",
   "name": "python3"
  },
  "language_info": {
   "codemirror_mode": {
    "name": "ipython",
    "version": 3
   },
   "file_extension": ".py",
   "mimetype": "text/x-python",
   "name": "python",
   "nbconvert_exporter": "python",
   "pygments_lexer": "ipython3",
   "version": "3.7.4"
  }
 },
 "nbformat": 4,
 "nbformat_minor": 2
}
